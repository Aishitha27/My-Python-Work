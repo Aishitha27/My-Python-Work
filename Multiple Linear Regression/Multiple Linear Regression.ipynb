{
 "cells": [
  {
   "cell_type": "code",
   "execution_count": 5,
   "id": "ae992b1e",
   "metadata": {},
   "outputs": [
    {
     "name": "stdout",
     "output_type": "stream",
     "text": [
      "[-6.42063589]\n",
      "[[   7.33607081 -240.65062499   -9.26327402]]\n",
      "    Actual  Predicted\n",
      "0    68.75  19.848298\n",
      "1     2.00 -63.543486\n",
      "2   124.60 -42.317479\n",
      "3   -77.50  15.328434\n",
      "4     6.65  -1.465741\n",
      "..     ...        ...\n",
      "75  -25.05  39.421654\n",
      "76  133.35  67.622536\n",
      "77   35.00  24.211324\n",
      "78  -11.55 -14.513790\n",
      "79    0.00  -6.420636\n",
      "\n",
      "[80 rows x 2 columns]\n",
      "Mean Absolute Error: 47.721391225108945\n",
      "Mean Squared Error:  3540.7685426859216\n",
      "Root Mean Squared Error:  59.50435734201254\n",
      "                            OLS Regression Results                            \n",
      "==============================================================================\n",
      "Dep. Variable:                      y   R-squared:                       0.359\n",
      "Model:                            OLS   Adj. R-squared:                  0.333\n",
      "Method:                 Least Squares   F-statistic:                     14.17\n",
      "Date:                Tue, 17 Oct 2023   Prob (F-statistic):           2.01e-07\n",
      "Time:                        09:50:39   Log-Likelihood:                -440.40\n",
      "No. Observations:                  80   AIC:                             888.8\n",
      "Df Residuals:                      76   BIC:                             898.3\n",
      "Df Model:                           3                                         \n",
      "Covariance Type:            nonrobust                                         \n",
      "==============================================================================\n",
      "                 coef    std err          t      P>|t|      [0.025      0.975]\n",
      "------------------------------------------------------------------------------\n",
      "const         -6.4206      6.937     -0.926      0.358     -20.236       7.395\n",
      "x1             7.3361      5.888      1.246      0.217      -4.392      19.064\n",
      "x2          -240.6506     39.393     -6.109      0.000    -319.109    -162.192\n",
      "x3            -9.2633     13.946     -0.664      0.509     -37.039      18.512\n",
      "==============================================================================\n",
      "Omnibus:                        0.622   Durbin-Watson:                   2.074\n",
      "Prob(Omnibus):                  0.733   Jarque-Bera (JB):                0.452\n",
      "Skew:                           0.184   Prob(JB):                        0.798\n",
      "Kurtosis:                       2.986   Cond. No.                         6.86\n",
      "==============================================================================\n",
      "\n",
      "Notes:\n",
      "[1] Standard Errors assume that the covariance matrix of the errors is correctly specified.\n",
      "[[-106.77163613]]\n"
     ]
    }
   ],
   "source": [
    "import pandas as pd \n",
    "import numpy as np\n",
    "import statsmodels.api as sm\n",
    "from sklearn.linear_model import LinearRegression\n",
    "import matplotlib.pyplot as plt\n",
    "from sklearn import metrics\n",
    "df = pd.read_excel(r\"C:\\Users\\Cashapona\\Documents\\Semester 5\\Python Programming for Business Analytics\\multiple linear regression data.xlsx\")\n",
    "df.shape\n",
    "df.describe()\n",
    "\n",
    "x1 = df[['Crude_FOD', 'USD_FOD','GBP_FOD']].values.reshape(-1, 3) #independent variables\n",
    "y1 = df['Nifty_FOD'].values.reshape(-1, 1) #dependent variables\n",
    "\n",
    "lr = LinearRegression()\n",
    "lr.fit(x1, y1)\n",
    "\n",
    "# To retrive the intercept:\n",
    "print(lr.intercept_)\n",
    "\n",
    "# For retrieving the slope:\n",
    "print(lr.coef_)\n",
    "y_pred = lr.predict(x1)\n",
    "df = pd.DataFrame({'Actual':y1.flatten(), 'Predicted': y_pred.flatten()})\n",
    "print(df)\n",
    "print('Mean Absolute Error:', metrics.mean_absolute_error(y1, y_pred))\n",
    "print('Mean Squared Error: ', metrics.mean_squared_error(y1, y_pred))\n",
    "print('Root Mean Squared Error: ', np.sqrt(metrics.mean_squared_error(y1, y_pred)))\n",
    "\n",
    "x1 = sm.add_constant(x1)\n",
    "model = sm.OLS(y1, x1)\n",
    "results = model.fit()\n",
    "print(results.summary())\n",
    "predicted_Nifty = lr.predict([[0.2, 0.4, 0.6]])\n",
    "print(predicted_Nifty)"
   ]
  },
  {
   "cell_type": "markdown",
   "id": "0c33de8b",
   "metadata": {},
   "source": [
    "DV = USD\n",
    "IV = Crude Oil\n",
    "USD = beta0 + beta1(Crude_Oil)\n",
    "\n",
    "Testing = 30%\n",
    "Training = 70%"
   ]
  }
 ],
 "metadata": {
  "kernelspec": {
   "display_name": "Python 3 (ipykernel)",
   "language": "python",
   "name": "python3"
  },
  "language_info": {
   "codemirror_mode": {
    "name": "ipython",
    "version": 3
   },
   "file_extension": ".py",
   "mimetype": "text/x-python",
   "name": "python",
   "nbconvert_exporter": "python",
   "pygments_lexer": "ipython3",
   "version": "3.9.12"
  }
 },
 "nbformat": 4,
 "nbformat_minor": 5
}
