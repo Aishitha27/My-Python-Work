{
 "cells": [
  {
   "cell_type": "markdown",
   "id": "9a5c07df",
   "metadata": {},
   "source": [
    "# If , Else, ElseIf Statements"
   ]
  },
  {
   "cell_type": "code",
   "execution_count": 7,
   "id": "f8c8b242",
   "metadata": {},
   "outputs": [
    {
     "name": "stdout",
     "output_type": "stream",
     "text": [
      "please enter your age : 17\n",
      "i'm sorry you cannot enter\n"
     ]
    }
   ],
   "source": [
    "age = int(input(\"please enter your age : \"))\n",
    "if age >= 21:\n",
    "    print(\"you can enter the bar area\")\n",
    "elif age < 21 and age > 18:\n",
    "    print(\"you can enter the bar area, but cannot have alcohol\")\n",
    "else:\n",
    "    print(\"i'm sorry you cannot enter\")"
   ]
  },
  {
   "cell_type": "code",
   "execution_count": 8,
   "id": "27d3f4c0",
   "metadata": {},
   "outputs": [
    {
     "name": "stdout",
     "output_type": "stream",
     "text": [
      "please enter your age : 20\n",
      "you can enter the bar area, but cannot have alcohol\n"
     ]
    }
   ],
   "source": [
    "age = int(input(\"please enter your age : \"))\n",
    "if age >= 21:\n",
    "    print(\"you can enter the bar area\")\n",
    "elif age < 21 and age > 18:\n",
    "    print(\"you can enter the bar area, but cannot have alcohol\")\n",
    "else:\n",
    "    print(\"i'm sorry you cannot enter\")"
   ]
  },
  {
   "cell_type": "code",
   "execution_count": 9,
   "id": "5ae56ce3",
   "metadata": {},
   "outputs": [
    {
     "name": "stdout",
     "output_type": "stream",
     "text": [
      "please enter your age : 25\n",
      "you can enter the bar area\n"
     ]
    }
   ],
   "source": [
    "age = int(input(\"please enter your age : \"))\n",
    "if age >= 21:\n",
    "    print(\"you can enter the bar area\")\n",
    "elif age < 21 and age > 18:\n",
    "    print(\"you can enter the bar area, but cannot have alcohol\")\n",
    "else:\n",
    "    print(\"i'm sorry you cannot enter\")"
   ]
  },
  {
   "cell_type": "markdown",
   "id": "a09bbd62",
   "metadata": {},
   "source": [
    "# Def add"
   ]
  },
  {
   "cell_type": "code",
   "execution_count": 10,
   "id": "4ee47a8c",
   "metadata": {},
   "outputs": [
    {
     "name": "stdout",
     "output_type": "stream",
     "text": [
      "24\n"
     ]
    }
   ],
   "source": [
    "def Mult(a, b):\n",
    "    c = a * b\n",
    "    if c == 0:\n",
    "        return 0\n",
    "    else:\n",
    "        return c\n",
    "\n",
    "result = Mult(12, 2)\n",
    "print(result)"
   ]
  },
  {
   "cell_type": "markdown",
   "id": "8b514ab2",
   "metadata": {},
   "source": [
    "# Def square"
   ]
  },
  {
   "cell_type": "code",
   "execution_count": 13,
   "id": "186d00cc",
   "metadata": {},
   "outputs": [
    {
     "name": "stdout",
     "output_type": "stream",
     "text": [
      "4\n"
     ]
    }
   ],
   "source": [
    "def square(a):\n",
    "    c = a*a \n",
    "    if c == 0:\n",
    "        return 0\n",
    "    else:\n",
    "        return c\n",
    "\n",
    "result = square(2)\n",
    "print(result)"
   ]
  },
  {
   "cell_type": "markdown",
   "id": "6cc4d191",
   "metadata": {},
   "source": [
    "# If , Else Statement"
   ]
  },
  {
   "cell_type": "code",
   "execution_count": 14,
   "id": "01b038b4",
   "metadata": {},
   "outputs": [
    {
     "name": "stdout",
     "output_type": "stream",
     "text": [
      "Oldie\n"
     ]
    }
   ],
   "source": [
    "def type_of_album(artist, album, year_released):\n",
    "    if year_released > 1980:\n",
    "        return \"Modern\"\n",
    "    else:\n",
    "        return \"Oldie\"\n",
    "x = type_of_album(\"Michael Jackson\", \"Thriller\", 1980)\n",
    "print(x)"
   ]
  },
  {
   "cell_type": "markdown",
   "id": "046d3475",
   "metadata": {},
   "source": [
    "# Def condition"
   ]
  },
  {
   "cell_type": "code",
   "execution_count": 15,
   "id": "7deff562",
   "metadata": {},
   "outputs": [
    {
     "name": "stdout",
     "output_type": "stream",
     "text": [
      "this album is good, it's rating is 10\n"
     ]
    }
   ],
   "source": [
    "def isGoodRating(rating=4): \n",
    "    if(rating < 7):\n",
    "        print(\"this album sucks, it's rating is\",rating)\n",
    "    else:\n",
    "        print(\"this album is good, it's rating is\",rating)\n",
    "\n",
    "isGoodRating(10)"
   ]
  },
  {
   "cell_type": "code",
   "execution_count": 16,
   "id": "38d8730e",
   "metadata": {},
   "outputs": [
    {
     "name": "stdout",
     "output_type": "stream",
     "text": [
      "Deep Purple rating is 0.0\n",
      "AC/DC rating is 10.0\n"
     ]
    }
   ],
   "source": [
    "myFavouriteBand = \"AC/DC\"\n",
    "\n",
    "def getBandRating(bandname):\n",
    "    if bandname == myFavouriteBand:\n",
    "        return 10.0\n",
    "    else:\n",
    "        return 0.0\n",
    "    \n",
    "print(\"Deep Purple rating is\", getBandRating(\"Deep Purple\"))\n",
    "print(\"AC/DC rating is\", getBandRating(\"AC/DC\"))"
   ]
  },
  {
   "cell_type": "markdown",
   "id": "2645bed8",
   "metadata": {},
   "source": [
    "# Pandas"
   ]
  },
  {
   "cell_type": "code",
   "execution_count": 20,
   "id": "7aac935e",
   "metadata": {},
   "outputs": [
    {
     "name": "stdout",
     "output_type": "stream",
     "text": [
      "  Student Age  Country            Course Marks\n",
      "0   David  27       UK            Python    85\n",
      "1  Samuel  24  Cananda   Data Structures    72\n",
      "2   Terry  22    China  Machine Learning    89\n",
      "3    Evan  32      USA   Web Development    76\n"
     ]
    }
   ],
   "source": [
    "import pandas as pd\n",
    "x = {'Student':['David','Samuel','Terry','Evan'],\n",
    "     'Age':['27', '24' , '22' , '32'],\n",
    "     'Country' : ['UK','Cananda', 'China', 'USA'], \n",
    "     'Course' : ['Python', 'Data Structures', 'Machine Learning',\n",
    "                 'Web Development'], 'Marks': ['85', '72', '89', '76']}\n",
    "df=pd.DataFrame(x)\n",
    "print(df.head())"
   ]
  },
  {
   "cell_type": "code",
   "execution_count": 18,
   "id": "c6dfaab4",
   "metadata": {},
   "outputs": [
    {
     "name": "stdout",
     "output_type": "stream",
     "text": [
      "Python\n"
     ]
    }
   ],
   "source": [
    "print(df.iloc[0,3])"
   ]
  },
  {
   "cell_type": "code",
   "execution_count": 19,
   "id": "69481a1f",
   "metadata": {},
   "outputs": [
    {
     "name": "stdout",
     "output_type": "stream",
     "text": [
      "China\n"
     ]
    }
   ],
   "source": [
    "print(df.loc[2,'Country'])"
   ]
  }
 ],
 "metadata": {
  "kernelspec": {
   "display_name": "Python 3 (ipykernel)",
   "language": "python",
   "name": "python3"
  },
  "language_info": {
   "codemirror_mode": {
    "name": "ipython",
    "version": 3
   },
   "file_extension": ".py",
   "mimetype": "text/x-python",
   "name": "python",
   "nbconvert_exporter": "python",
   "pygments_lexer": "ipython3",
   "version": "3.9.12"
  }
 },
 "nbformat": 4,
 "nbformat_minor": 5
}
