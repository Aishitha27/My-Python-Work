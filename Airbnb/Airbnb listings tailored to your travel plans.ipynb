{
 "cells": [
  {
   "cell_type": "code",
   "execution_count": 6,
   "id": "dba82b93",
   "metadata": {},
   "outputs": [],
   "source": [
    "%%capture\n",
    "!pip install numpy pandas streamlit gdown currencyconverter\n",
    "import numpy as np\n",
    "\n",
    "# For readability purposes, we will disable scientific notation for numbers\n",
    "np.set_printoptions(suppress=True)\n",
    "import os\n",
    "import shutil\n",
    "\n",
    "import gdown # gdown helps us download dataset from google drive\n",
    "from numpy import genfromtxt"
   ]
  },
  {
   "cell_type": "code",
   "execution_count": 7,
   "id": "dfa7befd",
   "metadata": {},
   "outputs": [
    {
     "name": "stderr",
     "output_type": "stream",
     "text": [
      "Downloading...\n",
      "From: https://drive.google.com/uc?id=13fyESiH1ZEnMV6eabAyhe20t4W6peEWK\n",
      "To: C:\\Users\\Cashapona\\WK1_Airbnb_Amsterdam_listings_proj.csv\n",
      "100%|███████████████████████████████████████████████████████████████████████████████| 246k/246k [00:00<00:00, 1.99MB/s]\n"
     ]
    },
    {
     "data": {
      "text/plain": [
       "'WK1_Airbnb_Amsterdam_listings_proj.csv'"
      ]
     },
     "execution_count": 7,
     "metadata": {},
     "output_type": "execute_result"
    }
   ],
   "source": [
    "# Downloading file from Google Drive\n",
    "# This file is based on data from: http://insideairbnb.com/get-the-data/\n",
    "file_id_1 = \"13fyESiH1ZEnMV6eabAyhe20t4W6peEWK\"\n",
    "downloaded_file_1 = \"WK1_Airbnb_Amsterdam_listings_proj.csv\"\n",
    "\n",
    "# Downloading the file from Google Drive\n",
    "gdown.download(id=file_id_1, output=downloaded_file_1)"
   ]
  },
  {
   "cell_type": "code",
   "execution_count": 8,
   "id": "c45dd9ac",
   "metadata": {},
   "outputs": [
    {
     "data": {
      "text/plain": [
       "array([['', '0', '1', ..., '6170', '6171', '6172'],\n",
       "       ['id', '23726706', '35815036', ..., '35760705', '36900951',\n",
       "        '40575103'],\n",
       "       ['price', '$88.00', '$105.00', ..., '$180.00', '$174.00',\n",
       "        '$65.00'],\n",
       "       ['latitude', '52.34916', '52.42419', ..., '52.42624', '52.31983',\n",
       "        '52.33946'],\n",
       "       ['longitude', '4.97879', '4.95689', ..., '4.90236', '4.86463',\n",
       "        '4.95749']], dtype='<U18')"
      ]
     },
     "execution_count": 8,
     "metadata": {},
     "output_type": "execute_result"
    }
   ],
   "source": [
    "from numpy import genfromtxt\n",
    "\n",
    "my_data = genfromtxt(downloaded_file_1, delimiter=\"|\", dtype = \"unicode\")\n",
    "my_data"
   ]
  },
  {
   "cell_type": "code",
   "execution_count": 9,
   "id": "2188a1d5",
   "metadata": {},
   "outputs": [
    {
     "data": {
      "text/plain": [
       "array([['23726706', '35815036', '31553121', '34745823'],\n",
       "       ['$88.00', '$105.00', '$152.00', '$87.00'],\n",
       "       ['52.34916', '52.42419', '52.43237', '52.2962'],\n",
       "       ['4.97879', '4.95689', '4.91821', '5.01231']], dtype='<U18')"
      ]
     },
     "execution_count": 9,
     "metadata": {},
     "output_type": "execute_result"
    }
   ],
   "source": [
    "# Remove the first column and row\n",
    "matrix = my_data[1: , 1:]\n",
    "\n",
    "# Print out the first four columns\n",
    "matrix [:, :4]"
   ]
  },
  {
   "cell_type": "code",
   "execution_count": 10,
   "id": "6781ecf6",
   "metadata": {},
   "outputs": [
    {
     "data": {
      "text/plain": [
       "array([['23726706', '$88.00', '52.34916', '4.97879'],\n",
       "       ['35815036', '$105.00', '52.42419', '4.95689'],\n",
       "       ['31553121', '$152.00', '52.43237', '4.91821'],\n",
       "       ['34745823', '$87.00', '52.2962', '5.01231']], dtype='<U18')"
      ]
     },
     "execution_count": 10,
     "metadata": {},
     "output_type": "execute_result"
    }
   ],
   "source": [
    "# Transposing the dataset\n",
    "matrix_T = matrix [:, :4].T\n",
    "matrix_T"
   ]
  },
  {
   "cell_type": "code",
   "execution_count": 11,
   "id": "a53fab2f",
   "metadata": {},
   "outputs": [],
   "source": [
    "# Remove the dollar sign\n",
    "matrix_T = np.char.replace(matrix_T, \"$\", \"\")"
   ]
  },
  {
   "cell_type": "code",
   "execution_count": 12,
   "id": "3ec83442",
   "metadata": {},
   "outputs": [],
   "source": [
    "# Remove the comma\n",
    "matrix_T = np.char.replace(matrix_T, \",\", \"\")"
   ]
  },
  {
   "cell_type": "code",
   "execution_count": 13,
   "id": "c29cd615",
   "metadata": {},
   "outputs": [
    {
     "data": {
      "text/plain": [
       "array([[23726706.     ,       88.     ,       52.34916,        4.97879],\n",
       "       [35815036.     ,      105.     ,       52.42419,        4.95689],\n",
       "       [31553120.     ,      152.     ,       52.43237,        4.91821],\n",
       "       [34745824.     ,       87.     ,       52.2962 ,        5.01231]],\n",
       "      dtype=float32)"
      ]
     },
     "execution_count": 13,
     "metadata": {},
     "output_type": "execute_result"
    }
   ],
   "source": [
    "# To enable numerical operations we must convert the string/unicode to float32\n",
    "matrix_T = matrix_T.astype(np.float32)\n",
    "\n",
    "# Printing out the first fours rows \n",
    "matrix_T[:5, :]"
   ]
  },
  {
   "cell_type": "markdown",
   "id": "39128d89",
   "metadata": {},
   "source": [
    "#### Choose an Airbnb location closest to where you'll spend most of your time"
   ]
  },
  {
   "cell_type": "code",
   "execution_count": 14,
   "id": "6b235d5a",
   "metadata": {},
   "outputs": [],
   "source": [
    "latitude = 52.3581\n",
    "longitude = 4.8812"
   ]
  },
  {
   "cell_type": "code",
   "execution_count": 20,
   "id": "1e607489",
   "metadata": {},
   "outputs": [],
   "source": [
    "def from_location_to_airbnb_listing_in_meters(lat1: float, lon1: float, lat2: list, lon2: list):\n",
    "    R = 6371000  # Radius of Earth in meters\n",
    "    phi_1 = np.radians(lat1)\n",
    "    phi_2 = np.radians(lat2)\n",
    "\n",
    "    delta_phi = np.radians(lat2 - lat1)\n",
    "    delta_lambda = np.radians(lon2 - lon1)\n",
    "\n",
    "    a = (\n",
    "        np.sin(delta_phi / 2.0) ** 2\n",
    "        + np.cos(phi_1) * np.cos(phi_2) * np.sin(delta_lambda / 2.0) ** 2\n",
    "    )\n",
    "\n",
    "    c = 2 * np.arctan2(np.sqrt(a), np.sqrt(1 - a))\n",
    "\n",
    "    meters = R * c  # Output distance in meters\n",
    "\n",
    "    return np.round(meters, 0)"
   ]
  },
  {
   "cell_type": "markdown",
   "id": "4ee35378",
   "metadata": {},
   "source": [
    "#### we've created a function to calculate the distance in meters for every Airbnb listing, we'll perform this calculation on the entire dataset and add the outputs to the matrix as a new column."
   ]
  },
  {
   "cell_type": "code",
   "execution_count": 18,
   "id": "a2252801",
   "metadata": {},
   "outputs": [],
   "source": [
    "convert_vec = np.vectorize(from_location_to_airbnb_listing_in_meters)"
   ]
  },
  {
   "cell_type": "code",
   "execution_count": 22,
   "id": "4d16885d",
   "metadata": {},
   "outputs": [],
   "source": [
    "meters = from_location_to_airbnb_listing_in_meters(latitude, longitude, matrix_T[:, 2], matrix_T[:, 3])"
   ]
  },
  {
   "cell_type": "code",
   "execution_count": 23,
   "id": "4e3c8551",
   "metadata": {},
   "outputs": [],
   "source": [
    "# Add an axis to make concatenation possible\n",
    "meters = meters.reshape(-1, 1)"
   ]
  },
  {
   "cell_type": "code",
   "execution_count": 24,
   "id": "130f88d5",
   "metadata": {},
   "outputs": [],
   "source": [
    "# Append the distance in meters to the matrix\n",
    "matrix_T = np.concatenate((matrix_T, meters), axis=1)"
   ]
  },
  {
   "cell_type": "code",
   "execution_count": 25,
   "id": "5571d91c",
   "metadata": {},
   "outputs": [],
   "source": [
    "# Append a color to the matrix\n",
    "colors = np.zeros(meters.shape)\n",
    "matrix_T = np.concatenate((matrix_T, colors), axis=1)"
   ]
  },
  {
   "cell_type": "code",
   "execution_count": 26,
   "id": "b844bef6",
   "metadata": {},
   "outputs": [],
   "source": [
    "# Append our entry to the matrix\n",
    "fav_entry = np.array([1, 0, 52.3600, 4.8852, 0, 1]).reshape(1, -1) # Change coordinates to your favorite location\n",
    "matrix_T = np.concatenate((fav_entry, matrix_T), axis=0)"
   ]
  },
  {
   "cell_type": "code",
   "execution_count": 27,
   "id": "d7ba5516",
   "metadata": {},
   "outputs": [
    {
     "data": {
      "text/plain": [
       "array([[       1.        ,        0.        ,       52.36      ,\n",
       "               4.8852    ,        0.        ,        1.        ],\n",
       "       [23726706.        ,       88.        ,       52.34915924,\n",
       "               4.97878981,     6702.        ,        0.        ],\n",
       "       [35815036.        ,      105.        ,       52.42419052,\n",
       "               4.95689011,     8966.        ,        0.        ],\n",
       "       [31553120.        ,      152.        ,       52.43236923,\n",
       "               4.91821003,     8632.        ,        0.        ],\n",
       "       [34745824.        ,       87.        ,       52.2961998 ,\n",
       "               5.01231003,    11259.        ,        0.        ]])"
      ]
     },
     "execution_count": 27,
     "metadata": {},
     "output_type": "execute_result"
    }
   ],
   "source": [
    "# Entries: airbnb_id, price, latitude, longitude,\n",
    "# meters from favorite point, color\n",
    "matrix_T[:5, :]"
   ]
  },
  {
   "cell_type": "code",
   "execution_count": 28,
   "id": "0d3d6d97",
   "metadata": {},
   "outputs": [],
   "source": [
    "# Export the data \n",
    "np.savetxt(\"WK1_Airbnb_Amsterdam_listings_proj_solution.csv\", matrix_T, delimiter=\",\")"
   ]
  }
 ],
 "metadata": {
  "kernelspec": {
   "display_name": "Python 3 (ipykernel)",
   "language": "python",
   "name": "python3"
  },
  "language_info": {
   "codemirror_mode": {
    "name": "ipython",
    "version": 3
   },
   "file_extension": ".py",
   "mimetype": "text/x-python",
   "name": "python",
   "nbconvert_exporter": "python",
   "pygments_lexer": "ipython3",
   "version": "3.9.12"
  }
 },
 "nbformat": 4,
 "nbformat_minor": 5
}
