{
 "cells": [
  {
   "cell_type": "code",
   "execution_count": 2,
   "id": "690b98aa",
   "metadata": {},
   "outputs": [],
   "source": [
    "%%capture\n",
    "!pip install numpy pandas streamlit gdown currencyconverter\n",
    "import numpy as np\n",
    "\n",
    "# For readability purposes, we will disable scientific notation for numbers\n",
    "np.set_printoptions(suppress=True)\n",
    "import os\n",
    "import shutil\n",
    "\n",
    "import gdown # gdown helps us download dataset from google drive\n",
    "from numpy import genfromtxt"
   ]
  },
  {
   "cell_type": "code",
   "execution_count": 3,
   "id": "70ad24b0",
   "metadata": {},
   "outputs": [
    {
     "name": "stderr",
     "output_type": "stream",
     "text": [
      "Downloading...\n",
      "From: https://drive.google.com/uc?id=13fyESiH1ZEnMV6eabAyhe20t4W6peEWK\n",
      "To: C:\\Users\\Cashapona\\WK1_Airbnb_Amsterdam_listings_proj.csv\n",
      "100%|███████████████████████████████████████████████████████████████████████████████| 246k/246k [00:00<00:00, 1.41MB/s]\n"
     ]
    },
    {
     "data": {
      "text/plain": [
       "'WK1_Airbnb_Amsterdam_listings_proj.csv'"
      ]
     },
     "execution_count": 3,
     "metadata": {},
     "output_type": "execute_result"
    }
   ],
   "source": [
    "# Downloading file from Google Drive\n",
    "# This file is based on data from: http://insideairbnb.com/get-the-data/\n",
    "file_id_1 = \"13fyESiH1ZEnMV6eabAyhe20t4W6peEWK\"\n",
    "downloaded_file_1 = \"WK1_Airbnb_Amsterdam_listings_proj.csv\"\n",
    "\n",
    "# Downloading the file from Google Drive\n",
    "gdown.download(id=file_id_1, output=downloaded_file_1)"
   ]
  },
  {
   "cell_type": "code",
   "execution_count": 4,
   "id": "3c64d7b6",
   "metadata": {},
   "outputs": [
    {
     "data": {
      "text/plain": [
       "array([['', '0', '1', ..., '6170', '6171', '6172'],\n",
       "       ['id', '23726706', '35815036', ..., '35760705', '36900951',\n",
       "        '40575103'],\n",
       "       ['price', '$88.00', '$105.00', ..., '$180.00', '$174.00',\n",
       "        '$65.00'],\n",
       "       ['latitude', '52.34916', '52.42419', ..., '52.42624', '52.31983',\n",
       "        '52.33946'],\n",
       "       ['longitude', '4.97879', '4.95689', ..., '4.90236', '4.86463',\n",
       "        '4.95749']], dtype='<U18')"
      ]
     },
     "execution_count": 4,
     "metadata": {},
     "output_type": "execute_result"
    }
   ],
   "source": [
    "from numpy import genfromtxt\n",
    "\n",
    "my_data = genfromtxt(downloaded_file_1, delimiter=\"|\", dtype = \"unicode\")\n",
    "my_data"
   ]
  },
  {
   "cell_type": "code",
   "execution_count": 5,
   "id": "45c0a25e",
   "metadata": {},
   "outputs": [
    {
     "data": {
      "text/plain": [
       "array([['23726706', '35815036', '31553121', '34745823'],\n",
       "       ['$88.00', '$105.00', '$152.00', '$87.00'],\n",
       "       ['52.34916', '52.42419', '52.43237', '52.2962'],\n",
       "       ['4.97879', '4.95689', '4.91821', '5.01231']], dtype='<U18')"
      ]
     },
     "execution_count": 5,
     "metadata": {},
     "output_type": "execute_result"
    }
   ],
   "source": [
    "# Remove the first column and row\n",
    "matrix = my_data[1: , 1:]\n",
    "\n",
    "# Print out the first four columns\n",
    "matrix [:, :4]"
   ]
  },
  {
   "cell_type": "code",
   "execution_count": 6,
   "id": "5f41f2b6",
   "metadata": {},
   "outputs": [
    {
     "data": {
      "text/plain": [
       "array([['23726706', '$88.00', '52.34916', '4.97879'],\n",
       "       ['35815036', '$105.00', '52.42419', '4.95689'],\n",
       "       ['31553121', '$152.00', '52.43237', '4.91821'],\n",
       "       ['34745823', '$87.00', '52.2962', '5.01231']], dtype='<U18')"
      ]
     },
     "execution_count": 6,
     "metadata": {},
     "output_type": "execute_result"
    }
   ],
   "source": [
    "# Transposing the dataset\n",
    "matrix_T = matrix [:, :4].T\n",
    "matrix_T"
   ]
  },
  {
   "cell_type": "code",
   "execution_count": 7,
   "id": "c3384b6b",
   "metadata": {},
   "outputs": [],
   "source": [
    "# Remove the dollar sign\n",
    "matrix_T = np.char.replace(matrix_T, \"$\", \"\")"
   ]
  },
  {
   "cell_type": "code",
   "execution_count": 8,
   "id": "df147530",
   "metadata": {},
   "outputs": [],
   "source": [
    "# Remove the comma\n",
    "matrix_T = np.char.replace(matrix_T, \",\", \"\")"
   ]
  },
  {
   "cell_type": "code",
   "execution_count": 9,
   "id": "3f37ea96",
   "metadata": {},
   "outputs": [
    {
     "data": {
      "text/plain": [
       "array([], dtype='<U8')"
      ]
     },
     "execution_count": 9,
     "metadata": {},
     "output_type": "execute_result"
    }
   ],
   "source": [
    "# We check if the records contaning dollars and comma signs are replaced\n",
    "matrix_T[(np.char.find(matrix_T, \"$\") > -1) | (np.char.find(matrix_T, \",\") > -1)] \n",
    "\n",
    "# the is nothing in output, whihc means that symbols were removed"
   ]
  },
  {
   "cell_type": "code",
   "execution_count": 10,
   "id": "2f01dde1",
   "metadata": {},
   "outputs": [
    {
     "data": {
      "text/plain": [
       "array([[23726706.     ,       88.     ,       52.34916,        4.97879],\n",
       "       [35815036.     ,      105.     ,       52.42419,        4.95689],\n",
       "       [31553120.     ,      152.     ,       52.43237,        4.91821],\n",
       "       [34745824.     ,       87.     ,       52.2962 ,        5.01231]],\n",
       "      dtype=float32)"
      ]
     },
     "execution_count": 10,
     "metadata": {},
     "output_type": "execute_result"
    }
   ],
   "source": [
    "# To enable numerical operations we must convert the string/unicode to float32\n",
    "matrix_T = matrix_T.astype(np.float32)\n",
    "\n",
    "# Printing out the first fours rows \n",
    "matrix_T[:5, :]"
   ]
  },
  {
   "cell_type": "code",
   "execution_count": 11,
   "id": "c316af70",
   "metadata": {},
   "outputs": [
    {
     "data": {
      "text/plain": [
       "array([ 88., 105., 152.,  87.], dtype=float32)"
      ]
     },
     "execution_count": 11,
     "metadata": {},
     "output_type": "execute_result"
    }
   ],
   "source": [
    "from currency_converter import CurrencyConverter\n",
    "\n",
    "cc = CurrencyConverter()\n",
    "\n",
    "# column = price_usd\n",
    "matrix_T[:, 1]"
   ]
  },
  {
   "cell_type": "code",
   "execution_count": 34,
   "id": "a1c18b05",
   "metadata": {},
   "outputs": [
    {
     "data": {
      "text/plain": [
       "{'AUD',\n",
       " 'BGN',\n",
       " 'BRL',\n",
       " 'CAD',\n",
       " 'CHF',\n",
       " 'CNY',\n",
       " 'CYP',\n",
       " 'CZK',\n",
       " 'DKK',\n",
       " 'EEK',\n",
       " 'EUR',\n",
       " 'GBP',\n",
       " 'HKD',\n",
       " 'HRK',\n",
       " 'HUF',\n",
       " 'IDR',\n",
       " 'ILS',\n",
       " 'INR',\n",
       " 'ISK',\n",
       " 'JPY',\n",
       " 'KRW',\n",
       " 'LTL',\n",
       " 'LVL',\n",
       " 'MTL',\n",
       " 'MXN',\n",
       " 'MYR',\n",
       " 'NOK',\n",
       " 'NZD',\n",
       " 'PHP',\n",
       " 'PLN',\n",
       " 'ROL',\n",
       " 'RON',\n",
       " 'RUB',\n",
       " 'SEK',\n",
       " 'SGD',\n",
       " 'SIT',\n",
       " 'SKK',\n",
       " 'THB',\n",
       " 'TRL',\n",
       " 'TRY',\n",
       " 'USD',\n",
       " 'ZAR'}"
      ]
     },
     "execution_count": 34,
     "metadata": {},
     "output_type": "execute_result"
    }
   ],
   "source": [
    "# We can check the number of currencies available \n",
    "cc.currencies"
   ]
  },
  {
   "cell_type": "code",
   "execution_count": 37,
   "id": "0e688acb",
   "metadata": {},
   "outputs": [
    {
     "data": {
      "text/plain": [
       "array([55.91006, 66.71087, 96.57193, 55.27472], dtype=float32)"
      ]
     },
     "execution_count": 37,
     "metadata": {},
     "output_type": "execute_result"
    }
   ],
   "source": [
    "# Let's convert the rate from the US dollar to British Pound\n",
    "gbp_rate = cc.convert(1, \"USD\",\"GBP\")\n",
    "\n",
    "# Multiply the dollar column by your currency of choice\n",
    "matrix_T[:, 1] = matrix_T[:, 1]*gbp_rate\n",
    "matrix_T[:, 1]"
   ]
  },
  {
   "cell_type": "markdown",
   "id": "2561318d",
   "metadata": {},
   "source": [
    "#### Airbnb's  inflation prices (we can use 7% as our inflation rate)"
   ]
  },
  {
   "cell_type": "code",
   "execution_count": 12,
   "id": "58d5de15",
   "metadata": {},
   "outputs": [
    {
     "data": {
      "text/plain": [
       "array([ 94.16    , 112.350006, 162.64001 ,  93.090004], dtype=float32)"
      ]
     },
     "execution_count": 12,
     "metadata": {},
     "output_type": "execute_result"
    }
   ],
   "source": [
    "# Multiply the British Pound column by the inflation percentage (1.00 + inflation)\n",
    "matrix_T[:,1] = matrix_T[:,1] * 1.07\n",
    "matrix_T[:, 1]"
   ]
  },
  {
   "cell_type": "code",
   "execution_count": 13,
   "id": "c6dd8727",
   "metadata": {},
   "outputs": [
    {
     "data": {
      "text/plain": [
       "array([ 94.16, 112.35, 162.64,  93.09], dtype=float32)"
      ]
     },
     "execution_count": 13,
     "metadata": {},
     "output_type": "execute_result"
    }
   ],
   "source": [
    "# Rounding off the prices down to the nearest two decimals\n",
    "matrix_T[:, 1] = np.around(matrix_T[:, 1], 2)\n",
    "matrix_T[:, 1]"
   ]
  }
 ],
 "metadata": {
  "kernelspec": {
   "display_name": "Python 3 (ipykernel)",
   "language": "python",
   "name": "python3"
  },
  "language_info": {
   "codemirror_mode": {
    "name": "ipython",
    "version": 3
   },
   "file_extension": ".py",
   "mimetype": "text/x-python",
   "name": "python",
   "nbconvert_exporter": "python",
   "pygments_lexer": "ipython3",
   "version": "3.9.12"
  }
 },
 "nbformat": 4,
 "nbformat_minor": 5
}
